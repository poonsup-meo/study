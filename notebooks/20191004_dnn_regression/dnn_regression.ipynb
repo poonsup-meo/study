{
 "cells": [
  {
   "cell_type": "markdown",
   "metadata": {},
   "source": [
    "# DNN for regression problem"
   ]
  },
  {
   "cell_type": "code",
   "execution_count": 87,
   "metadata": {},
   "outputs": [],
   "source": [
    "import json\n",
    "import numpy as np\n",
    "import pandas as pd\n",
    "import matplotlib.pyplot as plt\n",
    "import chainer\n",
    "import chainer.functions as F\n",
    "import chainer.links as L\n",
    "\n",
    "from chainer import training\n",
    "from chainer.training import extensions"
   ]
  },
  {
   "cell_type": "code",
   "execution_count": 77,
   "metadata": {},
   "outputs": [],
   "source": [
    "df = pd.read_csv('/Users/MEO/Documents/self_study/data/housing.csv')\n",
    "\n",
    "x = df.iloc[:, :-1].values.astype('f')\n",
    "t = df.iloc[:, -1].values.astype('f').reshape(-1,1)\n",
    "\n",
    "dataset = list(zip(x, t))\n",
    "n_train = int(len(dataset)*0.7)\n",
    "\n",
    "train, test = chainer.datasets.split_dataset_random(dataset, n_train, seed=0)"
   ]
  },
  {
   "cell_type": "code",
   "execution_count": 78,
   "metadata": {},
   "outputs": [
    {
     "data": {
      "text/plain": [
       "(506, 13)"
      ]
     },
     "execution_count": 78,
     "metadata": {},
     "output_type": "execute_result"
    }
   ],
   "source": [
    "x.shape"
   ]
  },
  {
   "cell_type": "markdown",
   "metadata": {},
   "source": [
    "## モデル定義"
   ]
  },
  {
   "cell_type": "markdown",
   "metadata": {},
   "source": [
    "### Method1"
   ]
  },
  {
   "cell_type": "code",
   "execution_count": 79,
   "metadata": {},
   "outputs": [
    {
     "data": {
      "text/plain": [
       "(506, 13)"
      ]
     },
     "execution_count": 79,
     "metadata": {},
     "output_type": "execute_result"
    }
   ],
   "source": [
    "x.shape"
   ]
  },
  {
   "cell_type": "code",
   "execution_count": 102,
   "metadata": {},
   "outputs": [],
   "source": [
    "class NN(chainer.Chain):\n",
    "    def __init__(self, n_in=13, h1_nodes=10, h2_nodes=10, n_out=1):\n",
    "        super().__init__()\n",
    "        with self.init_scope():\n",
    "            self.bn = L.BatchNormalization(n_in)\n",
    "            self.layer1 = L.Linear(None, h1_nodes)\n",
    "            self.layer2 = L.Linear(None, h2_nodes)\n",
    "            self.layer3 = L.Linear(None, n_out)\n",
    "    \n",
    "    def __call__(self, x):\n",
    "        h = self.bn(x)\n",
    "        h = self.layer1(h)\n",
    "        h = F.relu(h)\n",
    "        h = self.layer2(h)\n",
    "        h = F.relu(h)\n",
    "        h = self.layer3(h)\n",
    "        return h\n",
    "\n",
    "np.random.seed(0)\n",
    "nn = NN()\n",
    "model = L.Classifier(nn, lossfun=F.mean_squared_error)\n",
    "model.compute_accuracy = False"
   ]
  },
  {
   "cell_type": "markdown",
   "metadata": {},
   "source": [
    "### Method2"
   ]
  },
  {
   "cell_type": "code",
   "execution_count": 103,
   "metadata": {},
   "outputs": [],
   "source": [
    "# class NN(chainer.Chain):\n",
    "#     def __init__(self, h1_nodes=10, n_out=1):\n",
    "#         super().__init__()\n",
    "#         with self.init_scope():\n",
    "#             self.layer1 = L.Linear(None, h1_nodes)\n",
    "#             self.layer2 = L.Linear(None, n_out)\n",
    "    \n",
    "#     def __call__(self, x, t):\n",
    "#         y = self.predictor(x)\n",
    "#         loss = F.mean_squared_error(t, y)\n",
    "#         chainer.report({'loss': loss}, self)\n",
    "#         return loss\n",
    "    \n",
    "#     def predictor(self, x):\n",
    "#         h = self.layer1(x)\n",
    "#         h = F.relu(h)\n",
    "#         h = self.layer2(h)\n",
    "#         return h\n",
    "\n",
    "# np.random.seed(0)\n",
    "# model = NN()"
   ]
  },
  {
   "cell_type": "markdown",
   "metadata": {},
   "source": [
    "## 訓練"
   ]
  },
  {
   "cell_type": "code",
   "execution_count": 104,
   "metadata": {},
   "outputs": [
    {
     "data": {
      "text/plain": [
       "<chainer.optimizers.adam.Adam at 0x11f2b5e10>"
      ]
     },
     "execution_count": 104,
     "metadata": {},
     "output_type": "execute_result"
    }
   ],
   "source": [
    "optimizer = chainer.optimizers.Adam()\n",
    "optimizer.setup(model)"
   ]
  },
  {
   "cell_type": "code",
   "execution_count": 105,
   "metadata": {},
   "outputs": [
    {
     "name": "stdout",
     "output_type": "stream",
     "text": [
      "epoch       main/loss   validation/main/loss  elapsed_time\n",
      "\u001b[J1           559.767     584.593               0.17573       \n",
      "\u001b[J2           536.303     547.992               0.323122      \n",
      "\u001b[J3           492.607     490.167               0.475411      \n",
      "\u001b[J4           415.619     373.921               0.625888      \n",
      "\u001b[J5           294.913     232.919               0.782505      \n",
      "\u001b[J6           186.599     151.524               0.928693      \n",
      "\u001b[J7           134.586     122.312               1.09232       \n",
      "\u001b[J8           108.222     101.314               1.24355       \n",
      "\u001b[J9           90.7699     87.294                1.38864       \n",
      "\u001b[J10          88.8545     78.5097               1.53119       \n",
      "\u001b[J11          89.4191     70.7347               1.6769        \n",
      "\u001b[J12          70.5738     64.7039               1.81841       \n",
      "\u001b[J13          56.49       59.225                1.96657       \n",
      "\u001b[J14          57.5219     54.9258               2.10781       \n",
      "\u001b[J15          60.803      48.3762               2.25055       \n",
      "\u001b[J16          53.0819     44.5685               2.39702       \n",
      "\u001b[J17          47.8561     42.1073               2.53746       \n",
      "\u001b[J18          42.9737     42.3638               2.68417       \n",
      "\u001b[J19          49.6208     38.5542               2.82403       \n",
      "\u001b[J20          38.7769     34.5339               2.96412       \n",
      "\u001b[J21          40.8041     36.181                3.10871       \n",
      "\u001b[J22          42.2578     36.8377               3.25231       \n",
      "\u001b[J23          39.6026     33.2701               3.395         \n",
      "\u001b[J24          37.3122     29.2946               3.5395        \n",
      "\u001b[J25          35.4062     26.5925               3.68524       \n",
      "\u001b[J26          37.8453     27.3921               3.83495       \n",
      "\u001b[J27          30.8604     25.7726               3.97775       \n",
      "\u001b[J28          37.4569     24.2647               4.12327       \n",
      "\u001b[J29          38.3439     25.7638               4.28065       \n",
      "\u001b[J30          29.187      24.9077               4.42207       \n",
      "\u001b[J31          37.1498     23.9132               4.56957       \n",
      "\u001b[J32          28.8905     22.5438               4.82266       \n",
      "\u001b[J33          32.7231     24.4318               4.99825       \n",
      "\u001b[J34          30.6625     22.4544               5.14353       \n",
      "\u001b[J35          32.353      22.864                5.28796       \n",
      "\u001b[J36          31.2461     23.22                 5.43823       \n",
      "\u001b[J37          33.6196     20.7711               5.60089       \n",
      "\u001b[J38          30.3758     20.1959               5.7554        \n",
      "\u001b[J39          36.9887     21.9789               5.89868       \n",
      "\u001b[J40          26.8861     19.0639               6.0903        \n",
      "\u001b[J41          27.3961     19.5694               6.27899       \n",
      "\u001b[J42          32.3599     18.6856               6.42317       \n",
      "\u001b[J43          30.2795     18.7038               6.5757        \n",
      "\u001b[J44          29.9254     18.1684               6.73212       \n",
      "\u001b[J45          28.0777     18.6168               6.89422       \n",
      "\u001b[J46          24.3439     20.7727               7.04528       \n",
      "\u001b[J47          28.2021     18.6286               7.19078       \n",
      "\u001b[J48          28.4782     16.6919               7.34094       \n",
      "\u001b[J49          27.5083     18.7252               7.48305       \n",
      "\u001b[J50          25.7203     17.8008               7.62991       \n",
      "\u001b[J51          26.6975     16.7601               7.77405       \n",
      "\u001b[J52          23.8691     16.2899               7.91762       \n",
      "\u001b[J53          29.1596     15.7526               8.06699       \n",
      "\u001b[J54          25.0572     18.0521               8.27968       \n",
      "\u001b[J55          23.8135     15.4575               8.48014       \n",
      "\u001b[J56          25.9705     17.163                8.63218       \n",
      "\u001b[J57          28.3698     16.0675               8.84049       \n",
      "\u001b[J58          25.8063     15.0166               9.02585       \n",
      "\u001b[J59          23.5906     14.8977               9.17133       \n",
      "\u001b[J60          21.4424     16.0108               9.31746       \n",
      "\u001b[J61          25.0628     15.6139               9.46559       \n",
      "\u001b[J62          28.0017     17.33                 9.62941       \n",
      "\u001b[J63          25.0314     15.9642               9.79358       \n",
      "\u001b[J64          27.0283     17.6177               9.93789       \n",
      "\u001b[J65          24.743      14.7251               10.0805       \n",
      "\u001b[J66          26.1105     14.7624               10.2287       \n",
      "\u001b[J67          25.8811     15.6236               10.3726       \n",
      "\u001b[J68          26.2863     15.5357               10.5215       \n",
      "\u001b[J69          22.2711     14.2263               10.6666       \n",
      "\u001b[J70          22.3589     13.8605               10.8079       \n",
      "\u001b[J71          26.5748     14.1531               10.9567       \n",
      "\u001b[J72          24.762      14.6689               11.0999       \n",
      "\u001b[J73          26.6906     14.6204               11.2468       \n",
      "\u001b[J74          23.168      14.2978               11.3888       \n",
      "\u001b[J75          24.9763     15.2743               11.5314       \n",
      "\u001b[J76          27.897      13.7995               11.6784       \n",
      "\u001b[J77          22.1159     15.8059               11.8199       \n",
      "\u001b[J78          23.9891     13.7944               11.9809       \n",
      "\u001b[J79          24.2309     14.0491               12.1273       \n",
      "\u001b[J80          22.938      14.3111               12.2859       \n",
      "\u001b[J81          25.4536     14.7328               12.4339       \n",
      "\u001b[J82          27.3781     15.202                12.575        \n",
      "\u001b[J83          24.2154     14.3775               12.723        \n",
      "\u001b[J84          27.214      12.9125               12.8635       \n",
      "\u001b[J85          25.6727     15.5108               13.0053       \n",
      "\u001b[J86          21.4602     13.5079               13.1542       \n",
      "\u001b[J87          25.2244     13.4355               13.3469       \n",
      "\u001b[J88          22.7204     15.5471               13.4931       \n",
      "\u001b[J89          25.3055     13.6621               13.6417       \n",
      "\u001b[J90          22.5433     13.1725               13.7835       \n",
      "\u001b[J91          24.719      12.8971               13.9287       \n",
      "\u001b[J92          23.2478     13.8057               14.0701       \n",
      "\u001b[J93          23.1369     12.6672               14.2177       \n",
      "\u001b[J94          26.0941     17.3325               14.3592       \n",
      "\u001b[J95          24.1861     12.4898               14.5023       \n",
      "\u001b[J96          22.1553     12.604                14.6487       \n",
      "\u001b[J97          26.7846     12.2571               14.7894       \n",
      "\u001b[J98          22.3888     13.5006               14.9342       \n",
      "\u001b[J99          26.1156     12.3576               15.0754       \n",
      "\u001b[J100         22.8356     13.5625               15.2198       \n"
     ]
    }
   ],
   "source": [
    "epoch = 100\n",
    "batch_size = 10\n",
    "\n",
    "train_iter = chainer.iterators.SerialIterator(train, batch_size)\n",
    "test_iter = chainer.iterators.SerialIterator(test, batch_size, repeat=False, shuffle=False)\n",
    "\n",
    "updater = training.StandardUpdater(train_iter, optimizer, device=-1)\n",
    "trainer = training.Trainer(updater, (epoch, 'epoch'), out='result/housing')\n",
    "\n",
    "trainer.extend(extensions.Evaluator(test_iter, model, device=-1))\n",
    "trainer.extend(extensions.LogReport(trigger=(1, 'epoch')))\n",
    "trainer.extend(extensions.PrintReport(['epoch', 'main/loss', 'validation/main/loss', 'elapsed_time']))\n",
    "\n",
    "trainer.run()"
   ]
  },
  {
   "cell_type": "markdown",
   "metadata": {},
   "source": [
    "# Visualization"
   ]
  },
  {
   "cell_type": "code",
   "execution_count": 106,
   "metadata": {},
   "outputs": [],
   "source": [
    "with open('result/housing/log') as f:\n",
    "    logs = json.load(f)\n",
    "    result = pd.DataFrame(logs)"
   ]
  },
  {
   "cell_type": "code",
   "execution_count": 107,
   "metadata": {},
   "outputs": [
    {
     "data": {
      "text/plain": [
       "<matplotlib.axes._subplots.AxesSubplot at 0x11f1c3fd0>"
      ]
     },
     "execution_count": 107,
     "metadata": {},
     "output_type": "execute_result"
    },
    {
     "data": {
      "image/png": "[encoded data removed]",
      "text/plain": [
       "<Figure size 432x288 with 1 Axes>"
      ]
     },
     "metadata": {
      "needs_background": "light"
     },
     "output_type": "display_data"
    }
   ],
   "source": [
    "result[[\"main/loss\", \"validation/main/loss\"]].plot()"
   ]
  },
  {
   "cell_type": "code",
   "execution_count": 92,
   "metadata": {},
   "outputs": [
    {
     "data": {
      "text/plain": [
       "4.2190989879796"
      ]
     },
     "execution_count": 92,
     "metadata": {},
     "output_type": "execute_result"
    }
   ],
   "source": [
    "np.sqrt(result['validation/main/loss'].values[-1])"
   ]
  },
  {
   "cell_type": "code",
   "execution_count": null,
   "metadata": {},
   "outputs": [],
   "source": []
  }
 ],
 "metadata": {
  "kernelspec": {
   "display_name": "study",
   "language": "python",
   "name": "python3"
  },
  "language_info": {
   "codemirror_mode": {
    "name": "ipython",
    "version": 3
   },
   "file_extension": ".py",
   "mimetype": "text/x-python",
   "name": "python",
   "nbconvert_exporter": "python",
   "pygments_lexer": "ipython3",
   "version": "3.6.8"
  }
 },
 "nbformat": 4,
 "nbformat_minor": 2
}
