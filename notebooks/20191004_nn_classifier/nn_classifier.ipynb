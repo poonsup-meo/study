{
 "cells": [
  {
   "cell_type": "markdown",
   "metadata": {},
   "source": [
    "# DNN for classification problem"
   ]
  },
  {
   "cell_type": "markdown",
   "metadata": {},
   "source": [
    "# データ読み込み"
   ]
  },
  {
   "cell_type": "code",
   "execution_count": 1,
   "metadata": {},
   "outputs": [
    {
     "name": "stderr",
     "output_type": "stream",
     "text": [
      "/Users/MEO/venv/study/lib/python3.6/site-packages/chainer/_environment_check.py:41: UserWarning: Accelerate has been detected as a NumPy backend library.\n",
      "vecLib, which is a part of Accelerate, is known not to work correctly with Chainer.\n",
      "We recommend using other BLAS libraries such as OpenBLAS.\n",
      "For details of the issue, please see\n",
      "https://docs.chainer.org/en/stable/tips.html#mnist-example-does-not-converge-in-cpu-mode-on-mac-os-x.\n",
      "\n",
      "Please be aware that Mac OS X is not an officially supported OS.\n",
      "\n",
      "  ''')  # NOQA\n"
     ]
    }
   ],
   "source": [
    "import os\n",
    "import json\n",
    "import pandas as pd\n",
    "import numpy as np\n",
    "import chainer\n",
    "import chainer.functions as F\n",
    "import chainer.links as L\n",
    "import matplotlib.pyplot as plt\n",
    "\n",
    "from chainer import training\n",
    "from chainer.training import extensions"
   ]
  },
  {
   "cell_type": "code",
   "execution_count": 2,
   "metadata": {},
   "outputs": [],
   "source": [
    "from sklearn.datasets import load_wine"
   ]
  },
  {
   "cell_type": "code",
   "execution_count": 3,
   "metadata": {},
   "outputs": [],
   "source": [
    "df = pd.read_csv(\"/Users/MEO/Documents/self_study/data/Wine.csv\", header=None)\n",
    "\n",
    "colnames = [\n",
    "    \"Class\",\n",
    "    \"Alcohol\",\n",
    "    \"Malic acid\",\n",
    "    \"Ash\",\n",
    "    \"Alcalinity of ash\",\n",
    "    \"Magnesium\",\n",
    "    \"Total phenols\",\n",
    "    \"Flavanoids\",\n",
    "    \"Nonflavanoid phenols\",\n",
    "    \"Proanthocyanins\",\n",
    "    \"Color intensity\",\n",
    "    \"Hue\",\n",
    "    \"OD280/OD315 of diluted wines\",\n",
    "    \"Proline\"]\n",
    "\n",
    "df.columns = colnames"
   ]
  },
  {
   "cell_type": "markdown",
   "metadata": {},
   "source": [
    "## 訓練データ用意"
   ]
  },
  {
   "cell_type": "code",
   "execution_count": 4,
   "metadata": {},
   "outputs": [],
   "source": [
    "t = df.iloc[:, 0].values - 1\n",
    "x = df.iloc[:, 1:].values\n",
    "t = t.astype(\"i\")\n",
    "x = x.astype(\"f\")\n",
    "\n",
    "dataset = list(zip(x, t))"
   ]
  },
  {
   "cell_type": "code",
   "execution_count": 5,
   "metadata": {},
   "outputs": [],
   "source": [
    "n_train = int(len(dataset)*0.7)\n",
    "train, test = chainer.datasets.split_dataset_random(dataset, n_train, seed=0)"
   ]
  },
  {
   "cell_type": "markdown",
   "metadata": {},
   "source": [
    "## ネットワークモデル"
   ]
  },
  {
   "cell_type": "code",
   "execution_count": 6,
   "metadata": {},
   "outputs": [],
   "source": [
    "class NN(chainer.Chain):\n",
    "    def __init__(self, n_in=13, h1_nodes=10, h2_nodes=10, n_out=3):\n",
    "        super().__init__()\n",
    "        with self.init_scope():\n",
    "            self.layer1 = L.Linear(None, h1_nodes)\n",
    "            self.layer2 = L.Linear(None, h2_nodes)\n",
    "            self.layer3 = L.Linear(None, n_out)\n",
    "            self.bn = L.BatchNormalization(n_in)\n",
    "            \n",
    "    def __call__(self, x):\n",
    "        h = self.bn(x)\n",
    "        h = self.layer1(h)\n",
    "        h = F.relu(h)\n",
    "        h = self.layer2(h)\n",
    "        h = F.relu(h)\n",
    "        h = self.layer3(h)\n",
    "        return h\n",
    "\n",
    "np.random.seed(0)\n",
    "nn = NN()\n",
    "model = L.Classifier(nn)"
   ]
  },
  {
   "cell_type": "markdown",
   "metadata": {},
   "source": [
    "## 訓練"
   ]
  },
  {
   "cell_type": "code",
   "execution_count": 7,
   "metadata": {},
   "outputs": [],
   "source": [
    "batch_size = 10\n",
    "epoch = 50\n",
    "\n",
    "optimizer = chainer.optimizers.Adam()\n",
    "optimizer.setup(model)\n",
    "\n",
    "train_iter = chainer.iterators.SerialIterator(train, batch_size)\n",
    "test_iter = chainer.iterators.SerialIterator(test, batch_size, repeat=False, shuffle=False)\n",
    "\n",
    "updater = training.StandardUpdater(train_iter, optimizer, device=-1)"
   ]
  },
  {
   "cell_type": "code",
   "execution_count": 8,
   "metadata": {},
   "outputs": [],
   "source": [
    "trainer = training.Trainer(updater, (epoch, 'epoch'), out='result/wine')\n",
    "trainer.extend(extensions.Evaluator(test_iter, model, device=-1))\n",
    "trainer.extend(extensions.LogReport(trigger=(1, 'epoch')))\n",
    "trainer.extend(extensions.PrintReport(['epoch', 'main/accuracy', 'validation/main/accuracy',\n",
    "                                                         'main/loss', 'validation/main/loss', 'elapsed_time']))\n",
    "# trainer.extend(extensions.PlotReport(['main/loss', 'validation/main/loss'],\n",
    "#                                                         x_key='epoch', file_name='loss.png'))\n",
    "# trainer.extend(extensions.PlotReport(['main/accuracy', 'validation/main/accuracy'],\n",
    "#                                                         x_key='epoch', file_name='accuracy.png'))"
   ]
  },
  {
   "cell_type": "code",
   "execution_count": 9,
   "metadata": {},
   "outputs": [
    {
     "name": "stdout",
     "output_type": "stream",
     "text": [
      "epoch       main/accuracy  validation/main/accuracy  main/loss   validation/main/loss  elapsed_time\n",
      "\u001b[J1           0.392308       0.166667                  1.12546     1.11327               0.0885609     \n",
      "\u001b[J2           0.433333       0.475                     1.07717     1.03084               0.158559      \n",
      "\u001b[J3           0.415385       0.408333                  1.03339     0.979501              0.230406      \n",
      "\u001b[J4           0.55           0.475                     0.971542    0.949204              0.293717      \n",
      "\u001b[J5           0.5            0.575                     0.962307    0.91421               0.364779      \n",
      "\u001b[J6           0.523077       0.591667                  0.92451     0.864566              0.433283      \n",
      "\u001b[J7           0.6            0.625                     0.866175    0.837032              0.505996      \n",
      "\u001b[J8           0.607692       0.658333                  0.838688    0.798051              0.576285      \n",
      "\u001b[J9           0.65           0.833333                  0.789922    0.753908              0.669213      \n",
      "\u001b[J10          0.716667       0.85                      0.748091    0.711359              0.745003      \n",
      "\u001b[J11          0.7            0.866667                  0.726462    0.657238              0.818116      \n",
      "\u001b[J12          0.741667       0.95                      0.698671    0.619249              0.885064      \n",
      "\u001b[J13          0.815385       0.966667                  0.669401    0.57336               0.954286      \n",
      "\u001b[J14          0.85           0.966667                  0.583673    0.516579              1.01328       \n",
      "\u001b[J15          0.85           0.966667                  0.526236    0.476266              1.11099       \n",
      "\u001b[J16          0.846154       0.966667                  0.508979    0.437817              1.18067       \n",
      "\u001b[J17          0.891667       0.966667                  0.456225    0.38349               1.24213       \n",
      "\u001b[J18          0.915385       0.966667                  0.39863     0.337458              1.32679       \n",
      "\u001b[J19          0.916667       0.966667                  0.396204    0.291296              1.39374       \n",
      "\u001b[J20          0.883333       0.966667                  0.369186    0.259406              1.45911       \n",
      "\u001b[J21          0.938462       0.966667                  0.316612    0.234319              1.52969       \n",
      "\u001b[J22          0.941667       0.966667                  0.282817    0.212765              1.59748       \n",
      "\u001b[J23          0.9            0.966667                  0.296124    0.191309              1.66683       \n",
      "\u001b[J24          0.925          0.966667                  0.234144    0.178477              1.73752       \n",
      "\u001b[J25          0.95           0.966667                  0.229179    0.158459              1.8058        \n",
      "\u001b[J26          0.923077       0.966667                  0.230594    0.149829              1.877         \n",
      "\u001b[J27          0.916667       0.966667                  0.228585    0.141334              1.94117       \n",
      "\u001b[J28          0.961538       0.966667                  0.17462     0.12997               2.01867       \n",
      "\u001b[J29          0.933333       0.983333                  0.177456    0.123693              2.08541       \n",
      "\u001b[J30          0.975          0.983333                  0.146961    0.113708              2.1523        \n",
      "\u001b[J31          0.969231       0.983333                  0.157681    0.106133              2.22834       \n",
      "\u001b[J32          0.958333       0.983333                  0.14381     0.0987759             2.28454       \n",
      "\u001b[J33          0.930769       0.983333                  0.178619    0.0935717             2.37231       \n",
      "\u001b[J34          0.916667       0.983333                  0.21045     0.0892693             2.43701       \n",
      "\u001b[J35          0.966667       0.983333                  0.115321    0.0847538             2.50386       \n",
      "\u001b[J36          0.946154       0.983333                  0.166642    0.0848152             2.61372       \n",
      "\u001b[J37          0.958333       0.983333                  0.182039    0.0722871             2.73449       \n",
      "\u001b[J38          0.969231       0.983333                  0.118045    0.0761755             2.84488       \n",
      "\u001b[J39          0.958333       0.983333                  0.139954    0.0769175             2.91408       \n",
      "\u001b[J40          0.95           0.983333                  0.141304    0.0765125             2.98659       \n",
      "\u001b[J41          0.961538       0.983333                  0.127641    0.0748436             3.06457       \n",
      "\u001b[J42          0.9            0.983333                  0.19277     0.0720787             3.19459       \n",
      "\u001b[J43          0.953846       0.983333                  0.131993    0.0627327             3.29736       \n",
      "\u001b[J44          0.983333       0.983333                  0.0996904   0.0668394             3.36702       \n",
      "\u001b[J45          0.966667       0.983333                  0.0919271   0.0664657             3.43167       \n",
      "\u001b[J46          0.938462       0.983333                  0.159796    0.0589528             3.50494       \n",
      "\u001b[J47          0.975          0.983333                  0.0793648   0.0635719             3.57207       \n",
      "\u001b[J48          0.923077       0.983333                  0.172203    0.052748              3.64444       \n",
      "\u001b[J49          0.975          0.983333                  0.0964977   0.0567643             3.70912       \n",
      "\u001b[J50          0.941667       0.983333                  0.126032    0.0561794             3.77551       \n"
     ]
    }
   ],
   "source": [
    "trainer.run()"
   ]
  },
  {
   "cell_type": "markdown",
   "metadata": {},
   "source": [
    "# visualization"
   ]
  },
  {
   "cell_type": "code",
   "execution_count": 10,
   "metadata": {},
   "outputs": [],
   "source": [
    "with open('result/wine/log') as f:\n",
    "    logs = json.load(f)\n",
    "\n",
    "result = pd.DataFrame(logs)"
   ]
  },
  {
   "cell_type": "code",
   "execution_count": 11,
   "metadata": {},
   "outputs": [],
   "source": [
    "result = pd.DataFrame(logs)"
   ]
  },
  {
   "cell_type": "code",
   "execution_count": 12,
   "metadata": {},
   "outputs": [
    {
     "data": {
      "text/plain": [
       "<matplotlib.axes._subplots.AxesSubplot at 0x122369be0>"
      ]
     },
     "execution_count": 12,
     "metadata": {},
     "output_type": "execute_result"
    },
    {
     "data": {
      "text/plain": [
       "<Figure size 432x288 with 0 Axes>"
      ]
     },
     "metadata": {},
     "output_type": "display_data"
    },
    {
     "data": {
      "image/png": "[encoded data removed]",
      "text/plain": [
       "<Figure size 432x288 with 1 Axes>"
      ]
     },
     "metadata": {
      "needs_background": "light"
     },
     "output_type": "display_data"
    },
    {
     "data": {
      "text/plain": [
       "<Figure size 432x288 with 0 Axes>"
      ]
     },
     "metadata": {},
     "output_type": "display_data"
    },
    {
     "data": {
      "image/png": "[encoded data removed]",
      "text/plain": [
       "<Figure size 432x288 with 1 Axes>"
      ]
     },
     "metadata": {
      "needs_background": "light"
     },
     "output_type": "display_data"
    }
   ],
   "source": [
    "plt.figure()\n",
    "result[['main/accuracy', 'validation/main/accuracy']].plot()\n",
    "\n",
    "plt.figure()\n",
    "result[['main/loss', 'validation/main/loss']].plot()"
   ]
  },
  {
   "cell_type": "markdown",
   "metadata": {},
   "source": [
    "## Save model"
   ]
  },
  {
   "cell_type": "code",
   "execution_count": 13,
   "metadata": {},
   "outputs": [],
   "source": [
    "os.makedirs('models', exist_ok=True)"
   ]
  },
  {
   "cell_type": "code",
   "execution_count": 14,
   "metadata": {},
   "outputs": [],
   "source": [
    "chainer.serializers.save_npz('models/wine.npz', model)"
   ]
  },
  {
   "cell_type": "markdown",
   "metadata": {},
   "source": [
    "## Inference"
   ]
  },
  {
   "cell_type": "code",
   "execution_count": 16,
   "metadata": {},
   "outputs": [
    {
     "data": {
      "text/plain": [
       "1"
      ]
     },
     "execution_count": 16,
     "metadata": {},
     "output_type": "execute_result"
    }
   ],
   "source": [
    "model = L.Classifier(NN())\n",
    "chainer.serializers.load_npz('models/wine.npz', model)\n",
    "\n",
    "x_new = x[0].reshape(1, -1)\n",
    "y = model.predictor(x_new)\n",
    "y = F.softmax(y)\n",
    "\n",
    "np.argmax(y.array)"
   ]
  },
  {
   "cell_type": "code",
   "execution_count": null,
   "metadata": {},
   "outputs": [],
   "source": []
  }
 ],
 "metadata": {
  "kernelspec": {
   "display_name": "study",
   "language": "python",
   "name": "python3"
  },
  "language_info": {
   "codemirror_mode": {
    "name": "ipython",
    "version": 3
   },
   "file_extension": ".py",
   "mimetype": "text/x-python",
   "name": "python",
   "nbconvert_exporter": "python",
   "pygments_lexer": "ipython3",
   "version": "3.6.8"
  }
 },
 "nbformat": 4,
 "nbformat_minor": 2
}
